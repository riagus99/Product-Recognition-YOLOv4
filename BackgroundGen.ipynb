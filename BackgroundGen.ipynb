{
 "cells": [
  {
   "cell_type": "markdown",
   "id": "a2b81e3f",
   "metadata": {},
   "source": [
    "# Generate Background Image"
   ]
  },
  {
   "cell_type": "code",
   "execution_count": 1,
   "id": "e0d9317c",
   "metadata": {},
   "outputs": [],
   "source": [
    "import os\n",
    "import imgaug as ia\n",
    "from imgaug import augmenters as iaa\n",
    "import imageio\n",
    "import numpy as np\n",
    "ia.seed(1)"
   ]
  },
  {
   "cell_type": "code",
   "execution_count": 2,
   "id": "ce1bace0",
   "metadata": {},
   "outputs": [],
   "source": [
    "base_dir = '/home/ai_competition36'\n",
    "backgrounds_dir = os.path.join(base_dir, 'backgrounds') # 합성된 배경은 backgrounds 폴더에 저장\n",
    "background_source_dir = os.path.join(base_dir, 'background_source') # 배경사진의 오리지날 소스가 있는 곳"
   ]
  },
  {
   "cell_type": "code",
   "execution_count": 4,
   "id": "7e36e8f1",
   "metadata": {},
   "outputs": [],
   "source": [
    "import cv2\n",
    "#주어진 이미지를 (480, 640, 3)크기로 축소 \n",
    "def resize(img):\n",
    "    res = cv2.resize(img, dsize=(640, 480), interpolation=cv2.INTER_AREA)\n",
    "    return res"
   ]
  },
  {
   "cell_type": "code",
   "execution_count": 5,
   "id": "cab86c70",
   "metadata": {},
   "outputs": [],
   "source": [
    "#이미지 사이즈 조정 완료\n",
    "#img_list = os.listdir(background_source_dir)\n",
    "#for i,img in enumerate(img_list):\n",
    "#    img_dir = os.path.join(background_source_dir, img)\n",
    "#    temp = cv2.imread(img_dir)\n",
    "#    temp = resize(temp)\n",
    "#    save_dir = os.path.join(backgrounds_dir, f'background{i}.jpg')\n",
    "#    cv2.imwrite(save_dir, temp)"
   ]
  },
  {
   "cell_type": "code",
   "execution_count": 3,
   "id": "448e17f2",
   "metadata": {},
   "outputs": [],
   "source": [
    "# .ipynb_checkpoints 파일 조심!\n",
    "# 34개의 이미지가 있어야 정상\n",
    "#[file_name for file_name in os.listdir(backgrounds_dir) if file_name.endswith(\".jpg\")] 이걸 써도됨\n",
    "img_list = os.listdir(background_source_dir)\n",
    "N = len(img_list)\n",
    "height = 480\n",
    "width = 640\n",
    "channels = 3\n",
    "images = np.zeros((N, height, width, channels), dtype=np.uint8)\n",
    "for idx, img in enumerate(img_list):\n",
    "    img_path = os.path.join(background_source_dir, img)\n",
    "    images[idx, :, :, :] = imageio.imread(img_path)"
   ]
  },
  {
   "cell_type": "code",
   "execution_count": 6,
   "id": "b29c318e",
   "metadata": {},
   "outputs": [],
   "source": [
    "for idx in range(N):\n",
    "    imageio.imwrite(save_dir + f'/background{idx}.jpg', images[idx])"
   ]
  },
  {
   "cell_type": "code",
   "execution_count": 4,
   "id": "f34c643c",
   "metadata": {},
   "outputs": [],
   "source": [
    "#밝기 조절만 함\n",
    "\n",
    "from imgaug import augmenters as iaa\n",
    "\n",
    "changebrightness1 = iaa.AddToBrightness(-50)\n",
    "changebrightness2 = iaa.AddToBrightness(50)\n",
    "changebrightness3 = iaa.AddToBrightness(100)\n",
    "\n",
    "images_aug1 = changebrightness1(images=images)\n",
    "images_aug2 = changebrightness2(images=images)\n",
    "images_aug3 = changebrightness3(images=images)\n",
    "\n",
    "#ia.imshow(images_aug1[0])\n",
    "\n",
    "save_dir = backgrounds_dir\n",
    "\n",
    "for i in range(N):\n",
    "    imageio.imwrite(save_dir + f'/background{i}_b1.jpg', images_aug1[i])\n",
    "    imageio.imwrite(save_dir + f'/background{i}_b2.jpg', images_aug2[i])\n",
    "    imageio.imwrite(save_dir + f'/background{i}_b3.jpg', images_aug3[i])"
   ]
  },
  {
   "cell_type": "code",
   "execution_count": null,
   "id": "ea52054a",
   "metadata": {},
   "outputs": [],
   "source": []
  }
 ],
 "metadata": {
  "kernelspec": {
   "display_name": "pytorch",
   "language": "python",
   "name": "pytorch"
  },
  "language_info": {
   "codemirror_mode": {
    "name": "ipython",
    "version": 3
   },
   "file_extension": ".py",
   "mimetype": "text/x-python",
   "name": "python",
   "nbconvert_exporter": "python",
   "pygments_lexer": "ipython3",
   "version": "3.8.3"
  }
 },
 "nbformat": 4,
 "nbformat_minor": 5
}
